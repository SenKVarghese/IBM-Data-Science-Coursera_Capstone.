{
 "cells": [
  {
   "cell_type": "markdown",
   "metadata": {},
   "source": [
    "# IBM-Data-Science-Coursera_Capstone.\n",
    "\n",
    "### This is the IBM Data Science specialization's final Capstone Project notebook and materials"
   ]
  },
  {
   "cell_type": "markdown",
   "metadata": {},
   "source": [
    "**Guidelines to complete the Assignment 1 of Capstone**\n",
    "\n",
    "\n",
    "Start a Jupyter Notebook using any platform that you are comfortable with and do the following:\n",
    "* Write some markdown to explain that this notebook will be mainly used for the capstone project.\n",
    "* Import the pandas library as pd.\n",
    "* Import the Numpy library as np.\n",
    "* Print the following the statement: Hello Capstone Project Course!\n",
    "* Push the Notebook to your Gith"
   ]
  },
  {
   "cell_type": "code",
   "execution_count": 2,
   "metadata": {},
   "outputs": [
    {
     "name": "stdout",
     "output_type": "stream",
     "text": [
      "Hellos Capstone Project Course\n"
     ]
    }
   ],
   "source": [
    "import pandas as pd\n",
    "import numpy as np\n",
    "print(\"Hellos Capstone Project Course\")"
   ]
  }
 ],
 "metadata": {
  "kernelspec": {
   "display_name": "Python 3",
   "language": "python",
   "name": "python3"
  },
  "language_info": {
   "codemirror_mode": {
    "name": "ipython",
    "version": 3
   },
   "file_extension": ".py",
   "mimetype": "text/x-python",
   "name": "python",
   "nbconvert_exporter": "python",
   "pygments_lexer": "ipython3",
   "version": "3.8.5"
  }
 },
 "nbformat": 4,
 "nbformat_minor": 4
}
